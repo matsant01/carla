{
 "cells": [
  {
   "cell_type": "code",
   "execution_count": 1,
   "metadata": {},
   "outputs": [],
   "source": [
    "import matplotlib.pyplot as plt  # matplotlib version: 3.6.3\n",
    "import numpy as np\n",
    "import pandas as pd\n",
    "import scipy.fft as fft\n",
    "import plotly.graph_objects as go\n",
    "import plotly.express as px\n",
    "import webbrowser\n",
    "from scipy.optimize import curve_fit\n",
    "import os\n",
    "import re\n",
    "import sympy as sp"
   ]
  },
  {
   "cell_type": "code",
   "execution_count": 2,
   "metadata": {},
   "outputs": [],
   "source": [
    "opt_parameters = [   34.20949562,  1317.99024017,  -156.27590486,  -544.54377573,\n",
    "       -5732.4692288 ,   282.56780882,  9396.56391293,  -148.9753875 ,\n",
    "         -51.41313683,  1244.93126392]"
   ]
  },
  {
   "cell_type": "code",
   "execution_count": 3,
   "metadata": {},
   "outputs": [],
   "source": [
    "def aggIn(KP, KD, args):\n",
    "    if len(args) < 10:\n",
    "        raise ValueError(\"Wrong number of arguments\")\n",
    "    \n",
    "    return args[0] + args[1]*KP + args[2]*KD + args[3]*KP*KD + args[4]*KP**2 + args[5]*KD**2 + args[6]*KP**3 + args[7]*KD**3 + args[8]*KP*KD**2 + args[9]*KP**2*KD"
   ]
  },
  {
   "cell_type": "code",
   "execution_count": 4,
   "metadata": {},
   "outputs": [
    {
     "name": "stdout",
     "output_type": "stream",
     "text": [
      "[0.141603536646224]\n"
     ]
    }
   ],
   "source": [
    "z = 110\n",
    "KP = 0.15\n",
    "KD = sp.Symbol('KD')\n",
    "\n",
    "eq = sp.Eq(aggIn(KP, KD, opt_parameters), z)\n",
    "sol = sp.solve(eq, KD)\n",
    "\n",
    "print([s for s in sol if s.is_real and s >= 0.001 and s <= 1])\n"
   ]
  },
  {
   "cell_type": "code",
   "execution_count": 35,
   "metadata": {},
   "outputs": [],
   "source": [
    "def PIDgen(z):\n",
    "    if z < 60 or z > 160:\n",
    "        raise ValueError(\"AggressivenesKD index out of range\")\n",
    "    \n",
    "    z = float(z)\n",
    "    k = 10    \n",
    "    KP_A = 0.001\n",
    "    KP_B = 0.3\n",
    "    \n",
    "    KD_A = 0.001\n",
    "    KD_B = 1\n",
    "    res_list = []\n",
    "    \n",
    "    while (len(res_list) < k):\n",
    "        \n",
    "        # TODO: make the center of the gaussian bell closer to a desired KP (especially for high values of z)\n",
    "        KP = 0\n",
    "        while(KP < KP_A or KP > KP_B):\n",
    "            KP = np.random.normal((KP_B - KP_A) / 2, (KP_B - KP_A) / 4)\n",
    "        \n",
    "        KD = sp.Symbol('KD')\n",
    "        eq = sp.Eq(aggIn(KP, KD, opt_parameters), z)\n",
    "        sol = sp.solve(eq, KD)\n",
    "        sol = [s for s in sol if s.is_real and s >= KD_A and s <= KD_B]\n",
    "        \n",
    "        for s in sol:\n",
    "            res_list.append({'KP' : KP, 'KI' : 0.01, 'KD' : s}) \n",
    "        \n",
    "    return res_list"
   ]
  },
  {
   "cell_type": "code",
   "execution_count": 68,
   "metadata": {},
   "outputs": [],
   "source": [
    "res = PIDgen(140)"
   ]
  },
  {
   "cell_type": "code",
   "execution_count": 69,
   "metadata": {},
   "outputs": [
    {
     "name": "stdout",
     "output_type": "stream",
     "text": [
      "{'KP': 0.29262885687573104, 'KI': 0.01, 'KD': 0.140311150626445, 'AggIn': 140.000000000000} -> AggIn= 140.000000000000\n",
      "{'KP': 0.20470752295693062, 'KI': 0.01, 'KD': 0.0209506973358182, 'AggIn': 140.000000000000} -> AggIn= 140.000000000000\n",
      "{'KP': 0.25335801892287063, 'KI': 0.01, 'KD': 0.0658184392293287, 'AggIn': 140.000000000000} -> AggIn= 140.000000000000\n",
      "{'KP': 0.20298673083315424, 'KI': 0.01, 'KD': 0.0196768653157456, 'AggIn': 140.000000000000} -> AggIn= 140.000000000000\n",
      "{'KP': 0.1870539497885405, 'KI': 0.01, 'KD': 0.00785922875174082, 'AggIn': 140.000000000000} -> AggIn= 140.000000000000\n",
      "{'KP': 0.24606513369138067, 'KI': 0.01, 'KD': 0.0571556566451075, 'AggIn': 140.000000000000} -> AggIn= 140.000000000000\n",
      "{'KP': 0.23617473830089009, 'KI': 0.01, 'KD': 0.0468869135122278, 'AggIn': 140.000000000000} -> AggIn= 140.000000000000\n",
      "{'KP': 0.266132983237502, 'KI': 0.01, 'KD': 0.0839531941417359, 'AggIn': 140.000000000000} -> AggIn= 140.000000000000\n",
      "{'KP': 0.24149970278551292, 'KI': 0.01, 'KD': 0.0522279560708200, 'AggIn': 140.000000000000} -> AggIn= 140.000000000000\n",
      "{'KP': 0.24974979621118165, 'KI': 0.01, 'KD': 0.0614010755640671, 'AggIn': 140.000000000000} -> AggIn= 140.000000000000\n"
     ]
    }
   ],
   "source": [
    "for r in res:\n",
    "    r['AggIn'] = aggIn(KP=r['KP'], KD=r['KD'], args=opt_parameters)\n",
    "    print(r, end='')\n",
    "    print(' -> AggIn=', r['AggIn'])"
   ]
  },
  {
   "cell_type": "code",
   "execution_count": 38,
   "metadata": {},
   "outputs": [],
   "source": [
    "def esd(yt, fs):\n",
    "    # computes ESD of a signal yt, keeping only positive frequencies! -> NOTE: this implies that total energy is halved\n",
    "    N = len(yt)\n",
    "    f = fft.rfftfreq(N, 1/fs)\n",
    "    Sxx = np.square(1 / fs) *  np.square(np.abs(fft.rfft(yt)))\n",
    "    \n",
    "    return f, Sxx"
   ]
  },
  {
   "cell_type": "code",
   "execution_count": 39,
   "metadata": {},
   "outputs": [],
   "source": [
    "dt = 0.005\n",
    "fs_FTP = 10\n",
    "k_subsample = int(1 / (dt * fs_FTP))"
   ]
  },
  {
   "cell_type": "code",
   "execution_count": 45,
   "metadata": {},
   "outputs": [],
   "source": [
    "KPs = []\n",
    "KI = 0.01\n",
    "KDs = []\n",
    "\n",
    "pattern_file = r'PID_([\\d\\.]+)_([\\d\\.]+)_([\\d\\.]+).csv'\n",
    "pattern_folder = r'KP=([\\d\\.]+)'\n",
    "\n",
    "points = []\n",
    "\n",
    "z = []\n",
    "\n",
    "for folder in os.listdir('C:/Users/matte/Documents/NL3/CustomCarla/carla/PythonAPI/AggressiveDrivingSignals/parameters_exploration/Kx_exploration_data'):\n",
    "    match_folder = re.match(pattern_folder, folder)\n",
    "    KP = float(match_folder.group(1))\n",
    "    KPs.append(KP)\n",
    "    \n",
    "    same_KP = []\n",
    "\n",
    "    for file in os.listdir(os.path.join('C:/Users/matte/Documents/NL3/CustomCarla/carla/PythonAPI/AggressiveDrivingSignals/parameters_exploration/Kx_exploration_data', folder)):\n",
    "        match_file = re.match(pattern_file, file)\n",
    "        if float(match_file.group(2)) == KI:\n",
    "            KD = float(match_file.group(3))\n",
    "                        \n",
    "            filename = 'C:/Users/matte/Documents/NL3/CustomCarla/carla/PythonAPI/AggressiveDrivingSignals/parameters_exploration/Kx_exploration_data' + os.sep + folder + os.sep + file\n",
    "            signals_df = pd.read_csv(filename, sep=',', header=0)\n",
    "            x_t = np.array(signals_df['Time'], dtype=float)\n",
    "            y_rv = np.array(signals_df['Velocity'], dtype=float)\n",
    "            y_tv = np.array(signals_df['Target Velocity'], dtype=float)\n",
    "            y_tp = np.array(signals_df['Throttle'], dtype=float)\n",
    "\n",
    "            x_t = x_t[::k_subsample]\n",
    "            y_rv = y_rv[::k_subsample]\n",
    "            y_tv = y_tv[::k_subsample]\n",
    "            y_tp = y_tp[::k_subsample]\n",
    "            \n",
    "            f, Sxx = esd(y_tp, fs_FTP)\n",
    "\n",
    "            AggIn = float(np.mean(Sxx) / np.std(y_tv - y_rv))\n",
    "\n",
    "            # append KD value to KDs list, if the element is not already present\n",
    "            if KD not in KDs:\n",
    "                KDs.append(KD)  \n",
    "            \n",
    "            same_KP.append(AggIn)\n",
    "            \n",
    "            points.append({'KP': KP, 'KI' : KI, 'KD': KD, 'AggIn' : AggIn})\n",
    "    \n",
    "    z.append(same_KP)\n",
    "\n",
    "\n",
    "        "
   ]
  },
  {
   "cell_type": "code",
   "execution_count": 70,
   "metadata": {},
   "outputs": [
    {
     "data": {
      "text/plain": [
       "[{'KP': 0.29262885687573104,\n",
       "  'KI': 0.01,\n",
       "  'KD': 0.140311150626445,\n",
       "  'AggIn': 140.000000000000},\n",
       " {'KP': 0.20470752295693062,\n",
       "  'KI': 0.01,\n",
       "  'KD': 0.0209506973358182,\n",
       "  'AggIn': 140.000000000000},\n",
       " {'KP': 0.25335801892287063,\n",
       "  'KI': 0.01,\n",
       "  'KD': 0.0658184392293287,\n",
       "  'AggIn': 140.000000000000},\n",
       " {'KP': 0.20298673083315424,\n",
       "  'KI': 0.01,\n",
       "  'KD': 0.0196768653157456,\n",
       "  'AggIn': 140.000000000000},\n",
       " {'KP': 0.1870539497885405,\n",
       "  'KI': 0.01,\n",
       "  'KD': 0.00785922875174082,\n",
       "  'AggIn': 140.000000000000},\n",
       " {'KP': 0.24606513369138067,\n",
       "  'KI': 0.01,\n",
       "  'KD': 0.0571556566451075,\n",
       "  'AggIn': 140.000000000000},\n",
       " {'KP': 0.23617473830089009,\n",
       "  'KI': 0.01,\n",
       "  'KD': 0.0468869135122278,\n",
       "  'AggIn': 140.000000000000},\n",
       " {'KP': 0.266132983237502,\n",
       "  'KI': 0.01,\n",
       "  'KD': 0.0839531941417359,\n",
       "  'AggIn': 140.000000000000},\n",
       " {'KP': 0.24149970278551292,\n",
       "  'KI': 0.01,\n",
       "  'KD': 0.0522279560708200,\n",
       "  'AggIn': 140.000000000000},\n",
       " {'KP': 0.24974979621118165,\n",
       "  'KI': 0.01,\n",
       "  'KD': 0.0614010755640671,\n",
       "  'AggIn': 140.000000000000}]"
      ]
     },
     "execution_count": 70,
     "metadata": {},
     "output_type": "execute_result"
    }
   ],
   "source": [
    "res"
   ]
  },
  {
   "cell_type": "code",
   "execution_count": 71,
   "metadata": {},
   "outputs": [
    {
     "data": {
      "text/plain": [
       "True"
      ]
     },
     "execution_count": 71,
     "metadata": {},
     "output_type": "execute_result"
    }
   ],
   "source": [
    "plot_folder = 'C:/Users/matte/Documents/NL3/CustomCarla/carla/PythonAPI/AggressiveDrivingSignals/parameters_exploration/Kx_exploration_plots'\n",
    "\n",
    "real_data = go.Surface(x = KPs, y = KDs, z = np.array(z).transpose(), colorscale = 'Viridis', name='Real data', opacity=0.8)\n",
    "pred_data = go.Scatter3d(x = [float(d['KP']) for d in res], y = [float(d['KD']) for d in res], z = [float(d['AggIn']) for d in res], \n",
    "                         mode = 'markers', marker = dict(size = 5, opacity = 0.8, color = 'red'), name='Predicted data')\n",
    "fig = go.Figure(data = [real_data, pred_data])\n",
    "fig.update_layout(  title = 'AggIn with fixed KI = 0.01',\n",
    "                    scene=dict(xaxis_title='KP', yaxis_title='KD', zaxis_title='AggIn'))\n",
    "\n",
    "fig.write_html(plot_folder + os.sep + 'real_vs_pred_2.html') \n",
    "webbrowser.open(plot_folder + os.sep + 'real_vs_pred_2.html',new=2)"
   ]
  },
  {
   "cell_type": "code",
   "execution_count": null,
   "metadata": {},
   "outputs": [],
   "source": []
  }
 ],
 "metadata": {
  "kernelspec": {
   "display_name": "Python 3",
   "language": "python",
   "name": "python3"
  },
  "language_info": {
   "codemirror_mode": {
    "name": "ipython",
    "version": 3
   },
   "file_extension": ".py",
   "mimetype": "text/x-python",
   "name": "python",
   "nbconvert_exporter": "python",
   "pygments_lexer": "ipython3",
   "version": "3.9.12"
  },
  "orig_nbformat": 4
 },
 "nbformat": 4,
 "nbformat_minor": 2
}
