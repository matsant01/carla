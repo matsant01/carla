{
 "cells": [
  {
   "cell_type": "code",
   "execution_count": 1,
   "metadata": {},
   "outputs": [],
   "source": [
    "import matplotlib.pyplot as plt  # matplotlib version: 3.6.3\n",
    "import numpy as np\n",
    "import pandas as pd\n",
    "import scipy.fft as fft\n",
    "import plotly.graph_objects as go\n",
    "import plotly.express as px\n",
    "import webbrowser\n",
    "from scipy.optimize import curve_fit\n",
    "import os\n",
    "import re\n",
    "from sklearn.linear_model import LinearRegression\n",
    "from sklearn.preprocessing import PolynomialFeatures\n",
    "import sympy as sp"
   ]
  },
  {
   "cell_type": "code",
   "execution_count": 23,
   "metadata": {},
   "outputs": [],
   "source": [
    "opt_parameters = [   34.20949562,  1317.99024017,  -156.27590486,  -544.54377573,\n",
    "       -5732.4692288 ,   282.56780882,  9396.56391293,  -148.9753875 ,\n",
    "         -51.41313683,  1244.93126392]"
   ]
  },
  {
   "cell_type": "code",
   "execution_count": 24,
   "metadata": {},
   "outputs": [],
   "source": [
    "def aggIn(KP, KD, args):\n",
    "    if len(args) < 10:\n",
    "        raise ValueError(\"Wrong number of arguments\")\n",
    "    \n",
    "    return args[0] + args[1]*KP + args[2]*KD + args[3]*KP*KD + args[4]*KP**2 + args[5]*KD**2 + args[6]*KP**3 + args[7]*KD**3 + args[8]*KP*KD**2 + args[9]*KP**2*KD"
   ]
  },
  {
   "cell_type": "code",
   "execution_count": 27,
   "metadata": {},
   "outputs": [
    {
     "name": "stdout",
     "output_type": "stream",
     "text": [
      "[0.141603536646224, 0.851685640194285 - 0.665355539897431*I, 0.851685640194285 + 0.665355539897431*I]\n"
     ]
    }
   ],
   "source": [
    "z = 110\n",
    "KP = 0.15\n",
    "KD = sp.Symbol('KD')\n",
    "\n",
    "eq = sp.Eq(aggIn(KP, KD, opt_parameters), z)\n",
    "sol = sp.solve(eq, KD)\n",
    "\n",
    "print([s for s in sol if s.is_real and s >= 0.001 and s <= 1])\n"
   ]
  },
  {
   "cell_type": "code",
   "execution_count": null,
   "metadata": {},
   "outputs": [],
   "source": []
  }
 ],
 "metadata": {
  "kernelspec": {
   "display_name": "Python 3",
   "language": "python",
   "name": "python3"
  },
  "language_info": {
   "codemirror_mode": {
    "name": "ipython",
    "version": 3
   },
   "file_extension": ".py",
   "mimetype": "text/x-python",
   "name": "python",
   "nbconvert_exporter": "python",
   "pygments_lexer": "ipython3",
   "version": "3.7.9"
  },
  "orig_nbformat": 4
 },
 "nbformat": 4,
 "nbformat_minor": 2
}
