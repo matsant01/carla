{
 "cells": [
  {
   "cell_type": "code",
   "execution_count": 1,
   "metadata": {},
   "outputs": [],
   "source": [
    "import matplotlib.pyplot as plt\n",
    "import numpy as np\n",
    "import pandas as pd\n",
    "import scipy.fft as fft\n",
    "import plotly.graph_objects as go\n",
    "import plotly.express as px\n",
    "import webbrowser\n",
    "from scipy.optimize import curve_fit\n",
    "import os\n",
    "import re\n",
    "import sympy as sp"
   ]
  },
  {
   "cell_type": "code",
   "execution_count": 2,
   "metadata": {},
   "outputs": [],
   "source": [
    "AGG_IN_MIN = 70\n",
    "AGG_IN_MAX = 160\n",
    "\n",
    "KP_A = 0.04\n",
    "KP_B = 0.3\n",
    "\n",
    "KD_A = 0.001\n",
    "KD_B = 1.0"
   ]
  },
  {
   "cell_type": "code",
   "execution_count": 3,
   "metadata": {},
   "outputs": [],
   "source": [
    "def aggIn(KP, KD):\n",
    "    \"\"\"This function computes an approximation of the aggressiveness index based on the KP and KD values of the PID controller,\n",
    "    while considering the KI value to be 0.01. The equation has been obtained by fitting a polynomial of degree 3 to the data obtained\n",
    "    from the simulation of the PID controller.\n",
    "\n",
    "    Args:\n",
    "        KP : float\n",
    "            Proporcional term of the PID controller.\n",
    "        KD : float\n",
    "            Derivative term of the PID controller.\n",
    "\n",
    "    Returns:\n",
    "        out : float\n",
    "            Approximation of the aggressiveness index of the PID controller if it would be used to follow FTP-75 driving cycle.\n",
    "    \"\"\"\n",
    "    \n",
    "    args = [ 34.20949562, 1317.99024017, -156.27590486, -544.54377573, -5732.4692288 , 282.56780882, 9396.56391293, -148.9753875, -51.41313683, 1244.93126392]\n",
    "    \n",
    "    return args[0] + args[1]*KP + args[2]*KD + args[3]*KP*KD + args[4]*KP**2 + args[5]*KD**2 + args[6]*KP**3 + args[7]*KD**3 + args[8]*KP*KD**2 + args[9]*KP**2*KD"
   ]
  },
  {
   "cell_type": "code",
   "execution_count": 4,
   "metadata": {},
   "outputs": [],
   "source": [
    "def esd(yt, fs):\n",
    "    \"\"\"Computes the Energy Spectral Density of a signal yt, keeping only positive frequencies (note that this means that the total energy is halved). \n",
    "    \n",
    "    Parameters\n",
    "    ----------\n",
    "        yt : array_like \n",
    "            Signal to be analyzed\n",
    "        fs : float \n",
    "            Sampling frequency of the signal\n",
    "\n",
    "    Returns\n",
    "    -------\n",
    "        out : array_like, array_like\n",
    "            Frequency axis and Energy Spectral Density of the signal\n",
    "    \"\"\"\n",
    "    N = len(yt)\n",
    "    f = fft.rfftfreq(N, 1/fs)\n",
    "    Sxx = np.square(1 / fs) *  np.square(np.abs(fft.rfft(yt)))\n",
    "    \n",
    "    return f, Sxx"
   ]
  },
  {
   "cell_type": "code",
   "execution_count": 5,
   "metadata": {},
   "outputs": [],
   "source": [
    "def possible_PIDs(target_aggIn, k = 10):\n",
    "    \"\"\"Provides a list of at most k possible PID controllers that satisfy the target aggressiveness index.\n",
    "    To do so it generates a random KP from a normal distribution with mean depending on the target aggressiveness index \n",
    "    and then finds the possible KD values that satisfy the target aggressiveness index with the current KP.\n",
    "    The solutions are filtered to keep only the real ones, that are in the range and that are not too close to the ones already in the list.\n",
    "    The number of elements in the list can be smaller than k to speed up the process when the loop keeps finding the too similar solutions.\n",
    "\n",
    "    Parameters\n",
    "    ----------\n",
    "        target_aggIn : float \n",
    "            The aggressiveness index to satisfy (must be between AGG_IN_MIN=70 and AGG_IN_MAX=160).\n",
    "        k : int, optional\n",
    "            The maximum number of solutions to return. Defaults to 10.\n",
    "\n",
    "    Returns\n",
    "    -------\n",
    "        out: list\n",
    "            List of at most k possible PID controllers that satisfy the target aggressiveness index.\n",
    "\n",
    "    Raises\n",
    "    -------\n",
    "        ValueError\n",
    "            When aggressiveness index is out of range (must be between 0 and 1).\n",
    "    \"\"\"\n",
    "\n",
    "\n",
    "    if target_aggIn < AGG_IN_MIN or target_aggIn > AGG_IN_MAX:\n",
    "        raise ValueError(\"Aggressiveness index out of range\")\n",
    "    \n",
    "    MAX_ITER = 300\n",
    "    PRECISION_on_KP = 0.003\n",
    "    \n",
    "    res_list = []\n",
    "    i = 0\n",
    "    \n",
    "    \n",
    "    while (len(res_list) < k or (i < MAX_ITER and len(res_list) <= 1)):\n",
    "        # generate KP from a random normal distribution with mean depending on normalized aggressiveness index   \n",
    "        KP = 0\n",
    "        while(KP < KP_A or KP > KP_B):\n",
    "            KP = np.random.normal((KP_B - KP_A) * (1 + 2 * (target_aggIn - AGG_IN_MIN) / (AGG_IN_MAX - AGG_IN_MIN)) / 4, (KP_B - KP_A) / 3)\n",
    "            \n",
    "        # find possible KD values that sarisfy the target aggressiveness index with the current KP\n",
    "        KD = sp.Symbol('KD')\n",
    "        eq = sp.Eq(aggIn(KP, KD), target_aggIn)\n",
    "        sol = sp.solve(eq, KD)\n",
    "        \n",
    "        # filter the solutions to keep only the real ones and the ones in the range\n",
    "        sol = [s for s in sol if s.is_real and s >= KD_A and s <= KD_B]\n",
    "        \n",
    "        # append the solutions to the result list only if they are not too close to the ones already in the list\n",
    "        for s in sol:\n",
    "            if len(res_list) < 1 or len([d for d in res_list if abs(d['KP'] - KP) < PRECISION_on_KP]) == 0:\n",
    "                res_list.append({'KP' : float(KP), 'KI' : 0.01, 'KD' : float(s)}) \n",
    "            else:\n",
    "                k -= 1\n",
    "\n",
    "        i += 1\n",
    "        \n",
    "    return res_list"
   ]
  },
  {
   "cell_type": "code",
   "execution_count": 87,
   "metadata": {},
   "outputs": [],
   "source": [
    "def bestPID(target_aggIn = 107):\n",
    "    \"\"\"Given a target aggressiveness index, it returns the best PID controller that satisfies it.\n",
    "    To do so it computers a list of possible PIDs calling the `possible_PIDs()` function and then it finds the one that has a KP parameter\n",
    "    closest to the center of the range shifted according to relative aggIn of possible PIDs, by calculating the euclidean normalized distance from the center.\n",
    "\n",
    "    Args:\n",
    "        target_aggIn (float, optional): the aggressiveness index to satisfy. Defaults to 107.\n",
    "\n",
    "    Raises:\n",
    "        ValueError: aggressiveness index out of range (must be between 0 and 1)\n",
    "\n",
    "    Returns:\n",
    "        dict: dictionary containing the KP, KI, KD parameters of the best PID controller that satisfies the target aggressiveness index\n",
    "    \"\"\"\n",
    "    \n",
    "    \n",
    "    if target_aggIn < AGG_IN_MIN or target_aggIn > AGG_IN_MAX:\n",
    "        raise ValueError(\"AggressivenesKD index out of range\")\n",
    "    \n",
    "    \n",
    "    KP_center = (KP_B - KP_A) / 2\n",
    "    shifted_KP_center = KP_A + KP_center + (KP_B - KP_A) * ((target_aggIn - AGG_IN_MIN) / (AGG_IN_MAX - AGG_IN_MIN) - 0.5) * 0.8\n",
    "    \n",
    "    min_dist = float('inf')\n",
    "    best_PID = {}\n",
    "    \n",
    "    possible_PIDs_list = possible_PIDs(target_aggIn, 10)\n",
    "    \n",
    "    for PID in possible_PIDs_list:\n",
    "        dist = np.abs(shifted_KP_center - PID['KP'])\n",
    "        if dist < min_dist:\n",
    "            min_dist = dist\n",
    "            best_PID.clear()\n",
    "            best_PID.update(PID)    \n",
    "    \n",
    "    return best_PID"
   ]
  },
  {
   "cell_type": "code",
   "execution_count": 104,
   "metadata": {},
   "outputs": [],
   "source": [
    "res = possible_PIDs(155)\n",
    "best = bestPID(155)"
   ]
  },
  {
   "cell_type": "code",
   "execution_count": 105,
   "metadata": {},
   "outputs": [
    {
     "data": {
      "text/plain": [
       "{'KP': 0.2636911942160516, 'KI': 0.01, 'KD': 0.0020881428167307606}"
      ]
     },
     "execution_count": 105,
     "metadata": {},
     "output_type": "execute_result"
    }
   ],
   "source": [
    "best"
   ]
  }
 ],
 "metadata": {
  "kernelspec": {
   "display_name": "Python 3",
   "language": "python",
   "name": "python3"
  },
  "language_info": {
   "codemirror_mode": {
    "name": "ipython",
    "version": 3
   },
   "file_extension": ".py",
   "mimetype": "text/x-python",
   "name": "python",
   "nbconvert_exporter": "python",
   "pygments_lexer": "ipython3",
   "version": "3.7.9"
  },
  "orig_nbformat": 4
 },
 "nbformat": 4,
 "nbformat_minor": 2
}
