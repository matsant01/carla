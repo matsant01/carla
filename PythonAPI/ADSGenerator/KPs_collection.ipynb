{
 "cells": [
  {
   "attachments": {},
   "cell_type": "markdown",
   "metadata": {},
   "source": [
    "# Kp collection\n",
    "This notebook aims to simulate FTP-75 driving cycle on carla, retrieving signals through an async printer on CSV file. The notebook runs simulations with different values of the proportional parameter of the PID controller."
   ]
  },
  {
   "cell_type": "code",
   "execution_count": 1,
   "metadata": {},
   "outputs": [],
   "source": [
    "import carla\n",
    "from time import perf_counter\n",
    "import os\n",
    "import pandas as pd\n",
    "import matplotlib.pyplot as plt\n",
    "import csv\n",
    "import asyncio\n",
    "import numpy as np\n",
    "import sys\n",
    "import scipy.fft as fft\n",
    "import scipy.signal as sgn\n",
    "\n",
    "try:\n",
    "    sys.path.append(os.path.abspath(os.path.join(os.getcwd(), os.pardir)) + os.sep + \"carla\")\n",
    "except IndexError:\n",
    "    pass\n",
    "\n",
    "from agents.navigation.behavior_agent import BehaviorAgent \n",
    "from agents.navigation.basic_agent import BasicAgent\n",
    "from agents.navigation.local_planner import LocalPlanner, RoadOption\n",
    "from agents.navigation.global_route_planner import GlobalRoutePlanner\n"
   ]
  },
  {
   "cell_type": "markdown",
   "metadata": {},
   "source": [
    " #### Simulation setup"
   ]
  },
  {
   "cell_type": "code",
   "execution_count": 2,
   "metadata": {},
   "outputs": [],
   "source": [
    "dt = 0.005\n",
    "sync = True\n",
    "render = False"
   ]
  },
  {
   "cell_type": "code",
   "execution_count": 3,
   "metadata": {},
   "outputs": [],
   "source": [
    "# Connect the client and set up bp library and spawn points\n",
    "client = carla.Client('localhost', 2000) \n",
    "client.set_timeout(12.0) \n",
    "\n",
    "world = client.get_world()\n",
    "\n",
    "settings = world.get_settings()\n",
    "settings.no_rendering_mode = not render\n",
    "settings.fixed_delta_seconds = dt\n",
    "settings.synchronous_mode = sync\n",
    "world.apply_settings(settings)\n",
    "world = client.load_world('Town04', reset_settings=False)\n",
    "\n",
    "bp_lib = world.get_blueprint_library() \n",
    "spawn_points = world.get_map().get_spawn_points() "
   ]
  },
  {
   "cell_type": "markdown",
   "metadata": {},
   "source": [
    "#### Define trajectory"
   ]
  },
  {
   "cell_type": "code",
   "execution_count": 4,
   "metadata": {},
   "outputs": [],
   "source": [
    "# Get the map and the global route planner\n",
    "grp = GlobalRoutePlanner(world.get_map(), 2.0)\n",
    "\n",
    "# Set the plan\n",
    "route_ids = [75,100,92,272,134,138,130,296,222,212,139,352,336]\n",
    "waypoints = [spawn_points[idx] for idx in route_ids]\n",
    "plan = []\n",
    "\n",
    "# Draw only the spawn points locations that are part of the route\n",
    "for idx in route_ids:\n",
    "    world.debug.draw_string(spawn_points[idx].location, str(idx), life_time=15, color=carla.Color(255,0,0))\n",
    "\n",
    "for i in range(len(waypoints)-1):\n",
    "    route = grp.trace_route(waypoints[i].location, waypoints[i+1].location)\n",
    "    route.pop(0)    # prevents first element of every partial route to be added twice, resulting in unexpected\n",
    "                    # decelerations of the vehicle when it gets to the chosen spawn points\n",
    "    for x in route:\n",
    "        plan.append(x)"
   ]
  },
  {
   "attachments": {},
   "cell_type": "markdown",
   "metadata": {},
   "source": [
    "#### FTP Cycle setup"
   ]
  },
  {
   "cell_type": "code",
   "execution_count": 5,
   "metadata": {},
   "outputs": [],
   "source": [
    "df = pd.read_csv('FTP-75-cycle/FTP-75.csv')\n",
    "df.drop(index=0, inplace=True, axis=0)\n",
    "df = df.dropna(axis='index')\n",
    "df['Phase'] = df['Phase'].astype(int)\n",
    "df = df[(df['Phase'] == 1) | (df['Phase'] == 2)]\n",
    "df.drop('Phase', inplace=True, axis=1)\n",
    "\n",
    "ftp_v = np.array(df['Set Spd'], dtype=float)\n",
    "ftp_t = np.array(df['Time'], dtype=float)\n",
    "# converting from mph to km/h\n",
    "ftp_v = 1.60934 * ftp_v"
   ]
  },
  {
   "cell_type": "markdown",
   "metadata": {},
   "source": [
    "#### Agent setup"
   ]
  },
  {
   "cell_type": "code",
   "execution_count": 6,
   "metadata": {},
   "outputs": [],
   "source": [
    "# NOTE: Avoid running this cell a part from the first time (this is useful to be able to reset the run)\n",
    "vehicle = None"
   ]
  },
  {
   "cell_type": "code",
   "execution_count": 7,
   "metadata": {},
   "outputs": [],
   "source": [
    "velocity_array = []\n",
    "target_velocity_array = []\n",
    "throttle_array = []\n",
    "brake_array = []\n",
    "time_array = []"
   ]
  },
  {
   "cell_type": "markdown",
   "metadata": {},
   "source": [
    "#### Definition of async printer and main loop"
   ]
  },
  {
   "cell_type": "code",
   "execution_count": 8,
   "metadata": {},
   "outputs": [],
   "source": [
    "async def save_to_csv(FTP_loop_task, filename):\n",
    "    with open(filename, mode='w') as file:\n",
    "        writer = csv.writer(file, delimiter=',', quotechar='\"', quoting=csv.QUOTE_MINIMAL)\n",
    "        writer.writerow(['Time', 'Velocity', 'Target Velocity', 'Throttle', 'Brake'])\n",
    "        while True:\n",
    "            await asyncio.sleep(0)  # needed to avoid blocking the event loop\n",
    "            # if all the arrays have at least one value\n",
    "            if velocity_array and target_velocity_array and throttle_array and brake_array and time_array:\n",
    "                # find how many tuples can be written\n",
    "                min_len = min(len(velocity_array), len(target_velocity_array), len(throttle_array), len(brake_array), len(time_array))\n",
    "                # write the tuples\n",
    "                for i in range(min_len):\n",
    "                    writer.writerow([time_array.pop(0), velocity_array.pop(0), target_velocity_array.pop(0), throttle_array.pop(0), brake_array.pop(0)])\n",
    "            elif FTP_loop_task.done():\n",
    "                break"
   ]
  },
  {
   "cell_type": "code",
   "execution_count": 9,
   "metadata": {},
   "outputs": [],
   "source": [
    "async def FTP_loop():  \n",
    "    T_S = perf_counter()\n",
    "    t0 = world.get_snapshot().timestamp.elapsed_seconds\n",
    "    t1 = t0\n",
    "\n",
    "    control = carla.VehicleControl(throttle=0, brake=0, steer=0)\n",
    "    vehicle.apply_control(control)\n",
    "\n",
    "    while True:\n",
    "        # Retrieve time and velocity from the simulation. Throttle and brake are computed by\n",
    "        # the agent locally, so they don't need to be retrieved from the simulation. \n",
    "        t = world.get_snapshot().timestamp.elapsed_seconds\n",
    "        target_velocity = ftp_v[int(10 * round(t - t0, 1))]\n",
    "        velocity = vehicle.get_velocity()\n",
    "        # Collect signals\n",
    "        velocity_array.append(3.6 * np.sqrt((float(velocity.x)) ** 2 + (float(velocity.y)) ** 2 + (float(velocity.z)) ** 2))\n",
    "        target_velocity_array.append(target_velocity)\n",
    "        throttle_array.append(control.throttle)\n",
    "        brake_array.append(control.brake)\n",
    "        time_array.append(t - t0)\n",
    "        \n",
    "        # Go ahead with simulation\n",
    "        if sync:\n",
    "            world.tick()\n",
    "        # Update target speed (needed by the agent to run a step)\n",
    "        agent.set_target_speed(target_velocity)\n",
    "        # Update the control that will be applied        \n",
    "        if t - t1 >= 1 / f_long_update:\n",
    "            t1 = t\n",
    "            control = agent.run_step()\n",
    "        else:\n",
    "            control.steer = agent.run_step().steer\n",
    "        # Apply control\n",
    "        vehicle.apply_control(control)\n",
    "        \n",
    "        # Check wheter simulation is finished\n",
    "        if time_array[-1] >= ftp_t[-1]:\n",
    "            break \n",
    "        \n",
    "        # Yield control\n",
    "        await asyncio.sleep(0)\n",
    "        \n",
    "    print('Total computation time: ', perf_counter() - T_S)"
   ]
  },
  {
   "cell_type": "code",
   "execution_count": 10,
   "metadata": {},
   "outputs": [],
   "source": [
    "f_long_update = 10 # Hz\n",
    "KI = 0.01\n",
    "KD = 0.01"
   ]
  },
  {
   "cell_type": "code",
   "execution_count": 11,
   "metadata": {},
   "outputs": [
    {
     "name": "stdout",
     "output_type": "stream",
     "text": [
      "Total computation time:  958.2014867\n",
      "Total computation time:  960.8657590999999\n",
      "Total computation time:  977.8966930000001\n",
      "Total computation time:  973.6713326000004\n",
      "Total computation time:  961.2149385999996\n",
      "Total computation time:  960.3577611000001\n",
      "Total computation time:  961.2057504000004\n",
      "Total computation time:  961.5366372999997\n",
      "Total computation time:  962.6841362999994\n"
     ]
    }
   ],
   "source": [
    "KPs = [0.003, 0.0075, 0.03, 0.07, 0.13, 0.35, 0.45, 0.6, 0.8]\n",
    "\n",
    "for KP in KPs:\n",
    "    global vehicle, agent, velocity_array, target_velocity_array, throttle_array, brake_array, time_array, KI, KD, f_long_update\n",
    "    \n",
    "\n",
    "    csv_filename = 'collectedData_slowAgent/FTPfollowing_slowAgent_fUpdate={}Hz_PID=({},{},{})_dt={}.csv'.format(f_long_update, KP, KI, KD, dt)\n",
    "\n",
    "    # Reset vehicle\n",
    "    if vehicle is not None:\n",
    "        vehicle.destroy()\n",
    "    vehicle_bp = bp_lib.find('vehicle.tesla.model3') \n",
    "    vehicle = world.try_spawn_actor(vehicle_bp, spawn_points[79])\n",
    "    # Set up the agent \n",
    "    # NOTE: delta time for the longitudinal control is given by its period, i.e. one over its frequency of update.\n",
    "    #       This is used in order to avoid fluctuations of throttle/brake pedal as a consequence of a too small dt\n",
    "    #       for the longitudinal control. \n",
    "    agent = BasicAgent(vehicle, opt_dict={'dt' : 1 / f_long_update, 'longitudinal_control_dict' : {'K_P': KP, 'K_I': KI, 'K_D': KD, 'dt': 1 / f_long_update}})\n",
    "    agent.set_global_plan(plan=plan, stop_waypoint_creation=False)\n",
    "    agent.ignore_traffic_lights(active=True)\n",
    "    agent.ignore_stop_signs(active=True)\n",
    "    agent.follow_speed_limits(value=False)\n",
    "    \n",
    "    velocity_array = []\n",
    "    target_velocity_array = []\n",
    "    throttle_array = []\n",
    "    brake_array = []\n",
    "    time_array = []\n",
    "    \n",
    "    target_velocity = 30\n",
    "    duration = 20\n",
    "    \n",
    "    t0 = world.get_snapshot().timestamp.elapsed_seconds\n",
    "    while True:\n",
    "        if sync:\n",
    "            world.tick()\n",
    "        t = world.get_snapshot().timestamp.elapsed_seconds\n",
    "        time_array.append(t - t0)\n",
    "        if time_array[-1] >= duration - 5:\n",
    "            agent.set_target_speed(0)\n",
    "        else:\n",
    "            agent.set_target_speed(target_velocity)\n",
    "        vehicle.apply_control(agent.run_step())\n",
    "        if time_array[-1] >= duration:\n",
    "            break       \n",
    "            \n",
    "    velocity_array.clear()\n",
    "    target_velocity_array.clear()\n",
    "    throttle_array.clear()\n",
    "    brake_array.clear()\n",
    "    time_array.clear()\n",
    "    \n",
    "    t0 = world.get_snapshot().timestamp.elapsed_seconds\n",
    "    while True:\n",
    "        if sync:\n",
    "            world.tick()\n",
    "        t = world.get_snapshot().timestamp.elapsed_seconds\n",
    "        time_array.append(t - t0)\n",
    "        vehicle.apply_control(carla.VehicleControl(throttle=0, brake=0.3, steer=0))\n",
    "        if time_array[-1] >= 5:\n",
    "            vehicle.apply_control(carla.VehicleControl(throttle=0, brake=0, steer=0))\n",
    "            break   \n",
    "    time_array.clear()\n",
    "        \n",
    "    main_task = asyncio.create_task(FTP_loop())\n",
    "    save_task = asyncio.create_task(save_to_csv(main_task, csv_filename))\n",
    "    done, pending = await asyncio.wait([main_task, save_task], return_when=asyncio.ALL_COMPLETED)"
   ]
  },
  {
   "cell_type": "code",
   "execution_count": null,
   "metadata": {},
   "outputs": [],
   "source": []
  }
 ],
 "metadata": {
  "kernelspec": {
   "display_name": "Python 3",
   "language": "python",
   "name": "python3"
  },
  "language_info": {
   "codemirror_mode": {
    "name": "ipython",
    "version": 3
   },
   "file_extension": ".py",
   "mimetype": "text/x-python",
   "name": "python",
   "nbconvert_exporter": "python",
   "pygments_lexer": "ipython3",
   "version": "3.7.9"
  },
  "orig_nbformat": 4
 },
 "nbformat": 4,
 "nbformat_minor": 2
}
