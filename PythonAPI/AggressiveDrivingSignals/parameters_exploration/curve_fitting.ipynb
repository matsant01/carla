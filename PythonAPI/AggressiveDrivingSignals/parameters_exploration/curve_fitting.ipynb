{
 "cells": [
  {
   "cell_type": "code",
   "execution_count": 1,
   "metadata": {},
   "outputs": [],
   "source": [
    "import matplotlib.pyplot as plt  # matplotlib version: 3.6.3\n",
    "import numpy as np\n",
    "import pandas as pd\n",
    "import scipy.fft as fft\n",
    "import plotly.graph_objects as go\n",
    "import plotly.express as px\n",
    "import webbrowser\n",
    "from scipy.optimize import curve_fit\n",
    "import os\n",
    "import re\n",
    "from sklearn.linear_model import LinearRegression\n",
    "from sklearn.preprocessing import PolynomialFeatures"
   ]
  },
  {
   "cell_type": "code",
   "execution_count": 2,
   "metadata": {},
   "outputs": [],
   "source": [
    "def esd(yt, fs):\n",
    "    # computes ESD of a signal yt, keeping only positive frequencies! -> NOTE: this implies that total energy is halved\n",
    "    N = len(yt)\n",
    "    f = fft.rfftfreq(N, 1/fs)\n",
    "    Sxx = np.square(1 / fs) *  np.square(np.abs(fft.rfft(yt)))\n",
    "    \n",
    "    return f, Sxx"
   ]
  },
  {
   "cell_type": "code",
   "execution_count": 3,
   "metadata": {},
   "outputs": [],
   "source": [
    "dt = 0.005\n",
    "fs_FTP = 10\n",
    "k_subsample = int(1 / (dt * fs_FTP))"
   ]
  },
  {
   "cell_type": "code",
   "execution_count": 4,
   "metadata": {},
   "outputs": [],
   "source": [
    "KPs = []\n",
    "KI = 0.01\n",
    "KDs = []\n",
    "\n",
    "pattern_file = r'PID_([\\d\\.]+)_([\\d\\.]+)_([\\d\\.]+).csv'\n",
    "pattern_folder = r'KP=([\\d\\.]+)'\n",
    "\n",
    "points = []\n",
    "\n",
    "z = []\n",
    "\n",
    "for folder in os.listdir('Kx_exploration_data'):\n",
    "    match_folder = re.match(pattern_folder, folder)\n",
    "    KP = float(match_folder.group(1))\n",
    "    KPs.append(KP)\n",
    "    \n",
    "    same_KP = []\n",
    "\n",
    "    for file in os.listdir(os.path.join('Kx_exploration_data', folder)):\n",
    "        match_file = re.match(pattern_file, file)\n",
    "        if float(match_file.group(2)) == KI:\n",
    "            KD = float(match_file.group(3))\n",
    "                        \n",
    "            filename = 'Kx_exploration_data' + os.sep + folder + os.sep + file\n",
    "            signals_df = pd.read_csv(filename, sep=',', header=0)\n",
    "            x_t = np.array(signals_df['Time'], dtype=float)\n",
    "            y_rv = np.array(signals_df['Velocity'], dtype=float)\n",
    "            y_tv = np.array(signals_df['Target Velocity'], dtype=float)\n",
    "            y_tp = np.array(signals_df['Throttle'], dtype=float)\n",
    "\n",
    "            x_t = x_t[::k_subsample]\n",
    "            y_rv = y_rv[::k_subsample]\n",
    "            y_tv = y_tv[::k_subsample]\n",
    "            y_tp = y_tp[::k_subsample]\n",
    "            \n",
    "            f, Sxx = esd(y_tp, fs_FTP)\n",
    "\n",
    "            AggIn = float(np.mean(Sxx) / np.std(y_tv - y_rv))\n",
    "\n",
    "            # append KD value to KDs list, if the element is not already present\n",
    "            if KD not in KDs:\n",
    "                KDs.append(KD)  \n",
    "            \n",
    "            same_KP.append(AggIn)\n",
    "            \n",
    "            points.append({'KP': KP, 'KI' : KI, 'KD': KD, 'AggIn' : AggIn})\n",
    "    \n",
    "    z.append(same_KP)"
   ]
  },
  {
   "cell_type": "code",
   "execution_count": 5,
   "metadata": {},
   "outputs": [],
   "source": [
    "def f(X, a, b, c, d, e, f, g, h, i, j):\n",
    "    x1, x2 = X\n",
    "    return a + b*x1 + c*x2 + d*x1*x2 + e*x1**2 + f*x2**2 + g*x1**3 + h*x2**3 + i*x1*x2**2 + j*x1**2*x2"
   ]
  },
  {
   "cell_type": "code",
   "execution_count": 6,
   "metadata": {},
   "outputs": [],
   "source": [
    "in_mat = np.array([[d['KP'] for d in points], [d['KD'] for d in points]])"
   ]
  },
  {
   "cell_type": "code",
   "execution_count": 7,
   "metadata": {},
   "outputs": [],
   "source": [
    "popt, pcov = curve_fit(f, xdata=in_mat, ydata=[d['AggIn'] for d in points])"
   ]
  },
  {
   "cell_type": "code",
   "execution_count": 8,
   "metadata": {},
   "outputs": [],
   "source": [
    "pred_points = []\n",
    "\n",
    "for d in points:\n",
    "    pred_points.append({'KP': d['KP'], 'KD': d['KD'], 'AggIn' : f(np.array([d['KP'], d['KD']]), *popt)})"
   ]
  },
  {
   "cell_type": "code",
   "execution_count": 9,
   "metadata": {},
   "outputs": [
    {
     "data": {
      "text/plain": [
       "True"
      ]
     },
     "execution_count": 9,
     "metadata": {},
     "output_type": "execute_result"
    }
   ],
   "source": [
    "plot_folder = 'Kx_exploration_plots'\n",
    "\n",
    "real_data = go.Surface(x = KPs, y = KDs, z = np.array(z).transpose(), colorscale = 'Viridis', name='Real data')\n",
    "pred_data = go.Scatter3d(x = [d['KP'] for d in pred_points], y = [d['KD'] for d in pred_points], z = [d['AggIn'] for d in pred_points], \n",
    "                         mode = 'markers', marker = dict(size = 5, opacity = 0.8, color = 'red'), name='Predicted data')\n",
    "fig = go.Figure(data = [real_data, pred_data])\n",
    "fig.update_layout(  title = 'AggIn with fixed KI = 0.01',\n",
    "                    scene=dict(xaxis_title='KP', yaxis_title='KD', zaxis_title='AggIn'))\n",
    "fig.write_html(plot_folder + os.sep + 'real_vs_pred.html') \n",
    "\n",
    "webbrowser.open(plot_folder + os.sep + 'real_vs_pred.html',new=2)"
   ]
  },
  {
   "cell_type": "code",
   "execution_count": 10,
   "metadata": {},
   "outputs": [
    {
     "data": {
      "text/plain": [
       "True"
      ]
     },
     "execution_count": 10,
     "metadata": {},
     "output_type": "execute_result"
    }
   ],
   "source": [
    "pred_data = go.Surface(     x = np.linspace(0.04, 0.3, 100),\n",
    "                            y = np.linspace(0.001, 1, 100), \n",
    "                            z = np.array([[f(np.array([KP, KD]), *popt) for KD in np.linspace(0.001, 1, 100)] for KP in np.linspace(0.04, 0.3, 100)]).transpose(), \n",
    "                            name='Predicted data',\n",
    "                            opacity = 0.9)\n",
    "real_data = go.Scatter3d(x = [d['KP'] for d in points], y = [d['KD'] for d in points], z = [d['AggIn'] for d in points], \n",
    "                         mode = 'markers', marker = dict(size = 5, opacity = 0.8, color = 'red'), name='Predicted data')\n",
    "\n",
    "fig = go.Figure(data = [pred_data, real_data])\n",
    "fig.update_layout(  title = 'AggIn with fixed KI = 0.01',\n",
    "                    scene=dict(xaxis_title='KP', yaxis_title='KD', zaxis_title='AggIn'))\n",
    "fig.write_html(plot_folder + os.sep + 'prediction_plot.html') \n",
    "\n",
    "webbrowser.open(plot_folder + os.sep + 'prediction_plot.html',new=2)"
   ]
  },
  {
   "cell_type": "code",
   "execution_count": 11,
   "metadata": {},
   "outputs": [],
   "source": [
    "abs_errors = [np.abs(d['AggIn'] - f(np.array([d['KP'], d['KD']]), *popt)) for d in points]"
   ]
  },
  {
   "cell_type": "code",
   "execution_count": 12,
   "metadata": {},
   "outputs": [
    {
     "data": {
      "text/plain": [
       "1.4754651773375456"
      ]
     },
     "execution_count": 12,
     "metadata": {},
     "output_type": "execute_result"
    }
   ],
   "source": [
    "np.mean(abs_errors)"
   ]
  },
  {
   "cell_type": "code",
   "execution_count": 13,
   "metadata": {},
   "outputs": [
    {
     "data": {
      "text/plain": [
       "9.158538612390387"
      ]
     },
     "execution_count": 13,
     "metadata": {},
     "output_type": "execute_result"
    }
   ],
   "source": [
    "np.max(abs_errors)"
   ]
  },
  {
   "cell_type": "code",
   "execution_count": 14,
   "metadata": {},
   "outputs": [
    {
     "data": {
      "text/plain": [
       "1.4285884068630734"
      ]
     },
     "execution_count": 14,
     "metadata": {},
     "output_type": "execute_result"
    }
   ],
   "source": [
    "np.std(abs_errors)"
   ]
  },
  {
   "cell_type": "code",
   "execution_count": null,
   "metadata": {},
   "outputs": [],
   "source": []
  }
 ],
 "metadata": {
  "kernelspec": {
   "display_name": "Python 3",
   "language": "python",
   "name": "python3"
  },
  "language_info": {
   "codemirror_mode": {
    "name": "ipython",
    "version": 3
   },
   "file_extension": ".py",
   "mimetype": "text/x-python",
   "name": "python",
   "nbconvert_exporter": "python",
   "pygments_lexer": "ipython3",
   "version": "3.7.9"
  },
  "orig_nbformat": 4
 },
 "nbformat": 4,
 "nbformat_minor": 2
}
